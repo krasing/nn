{
  "cells": [
    {
      "cell_type": "raw",
      "metadata": {},
      "source": [
        "---\n",
        "title: \"Създаване на блог с quarto\"\n",
        "author: \"me\"\n",
        "date: \"2022-11-18\"\n",
        "categories: [webtools, bg]\n",
        "image: \"https://quarto.org/quarto.png\"\n",
        "---"
      ],
      "id": "558c9591"
    },
    {
      "cell_type": "markdown",
      "metadata": {},
      "source": [
        "Създаване на блог за техническа информация с използване на платформата [quarto](https://quarto.org/)\n",
        "\n",
        "## Характеристики:\n",
        "\n",
        " - проста и интуитивна предварително зададена структура\n",
        " - поддържа md синтаксис за въвеждане на текст, заглавия и секции, връзки, картинки, таблици\n",
        " - поддържа преобразуване на jupyter тетрадки, съдържащи код, формули, графики\n",
        "\n",
        "## Основни стъпки:\n",
        "\n",
        "- локално инсталиране [https://quarto.org/docs/get-started/](https://quarto.org/docs/get-started/)\n",
        "- генериране на структурата [https://quarto.org/docs/websites/website-blog.html](https://quarto.org/docs/websites/website-blog.html):\n",
        "  - отваря се терминал от папката, където ще се съхранява блога и се изпълнява команда:\n",
        "    ```\n",
        "     quarto create-project myblog --type website:blog\n",
        "    ```\n",
        "  - визуализира се генерирания блог  \n",
        "    ```\n",
        "     quarto preview myblog\n",
        "    ```\n",
        "- редактират се различните файлове за запознаване със структурата.\n",
        "  - Заглавната страница е във файл `index.qmd` в коренната директория.\n",
        "  - Обща информация за блога се дава във файл `about.qmd` в коренната директория\n",
        "  - Всяко съобщение има папка в папка `posts` и файл `index.qmd` с основното съдържание. В папката може да има и картинки.\n",
        "  \n",
        "- избира се тема за оформлението на сайта и се задава във файл `_quarto.yml`:\n",
        "\n",
        "```\n",
        "     format:\n",
        "       html:\n",
        "         theme: litera\n",
        "         css: styles.css\n",
        "```\n",
        "\n",
        "Темата по подразбиране е `cosmo` и е със синя заглавна лента. Темата, избрана за този блог е `litera` с по-убити цветове. Интересна тема е `journal`, както и много други (cerulean, cyborg, darkly, flatly, lumen,\n",
        "lux, materia, minty, morph, pulse, quartz, sandstone, simplex, sketchy, slate, solar, spacelab, superhero, united, vapor, yeti, zephyr).\n",
        "\n",
        "## Публикуване на Jupyter тетрадки\n",
        "\n",
        "- At the beginning of the jupyter notebook we need to add a cell of type raw with metadata, e.g.\n",
        "\n",
        "\n",
        "```{jupyter}\n",
        "---\n",
        "title: \"Gradients, broadcasting and backpropagation\"\n",
        "author: \"me\"\n",
        "date: \"2022-11-20\"\n",
        "categories: [NN]\n",
        "format:\n",
        "  html:\n",
        "    code-fold: false\n",
        "jupyter: python3\n",
        "--- \n",
        "```"
      ],
      "id": "7939e718"
    }
  ],
  "metadata": {
    "kernelspec": {
      "name": "drlnd",
      "language": "python",
      "display_name": "drlnd"
    }
  },
  "nbformat": 4,
  "nbformat_minor": 5
}