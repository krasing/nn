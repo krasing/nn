{
 "cells": [
  {
   "cell_type": "raw",
   "id": "1e28acac",
   "metadata": {},
   "source": [
    "---\n",
    "title: \"Hiding the details\"\n",
    "author: \"Krasin Georgiev\"\n",
    "date: \"2022-12-14\"\n",
    "image: \"\"\n",
    "categories: [NN, code]\n",
    "format:\n",
    "  html:\n",
    "    code-fold: false\n",
    "jupyter: python3\n",
    "draft: true\n",
    "---"
   ]
  },
  {
   "cell_type": "markdown",
   "id": "2d13878b",
   "metadata": {},
   "source": [
    "When you drive a car you don't see all car and engine parameters. Even when an engineer designs a car he don't know  details about each component (mechanical, electrical, electro-mechanical or electronic part). This is done to manage the complexity. This approach is expecially important for software design where the number of components is much greater and design flexibility is colse to infinity."
   ]
  },
  {
   "cell_type": "markdown",
   "id": "30bb34dc",
   "metadata": {},
   "source": [
    "## Layers\n",
    "\n",
    "Some of the most popular layers in a NN are Linear, ReLU and Mse."
   ]
  },
  {
   "cell_type": "code",
   "execution_count": 1,
   "id": "0ff233a2",
   "metadata": {},
   "outputs": [],
   "source": [
    "class Lin():\n",
    "    def __init__(self, w, b):\n",
    "        self.w = w\n",
    "        self.b = b\n",
    "    def __call__(self, x):\n",
    "        y = x @ self.w + self.b\n",
    "        self.x = x\n",
    "        self.y = y\n",
    "        return self.y\n",
    "    def backward(self):        \n",
    "        self.b.g = self.y.g.sum(dim=0)\n",
    "        self.w.g = self.x.T @ self.y.g\n",
    "        self.x.g =  self.y.g * self.w.T"
   ]
  },
  {
   "cell_type": "code",
   "execution_count": 2,
   "id": "2102e686",
   "metadata": {},
   "outputs": [],
   "source": [
    "class ReLU():\n",
    "    def __call__(self, x):\n",
    "        self.x = x\n",
    "        self.y = relu(x)\n",
    "        return self.y\n",
    "    def backward(self):\n",
    "        self.x.g = self.y.g * (self.x > 0)"
   ]
  },
  {
   "cell_type": "code",
   "execution_count": 3,
   "id": "75b65665",
   "metadata": {},
   "outputs": [],
   "source": [
    "class Mse():\n",
    "    def __call__(self, pred, y):\n",
    "        self.pred = pred\n",
    "        self.targ = y\n",
    "        return (pred-y).pow(2).mean()\n",
    "    def backward(self):\n",
    "        self.pred.g = 2 * (self.pred - self.targ) / self.targ.shape[0] / self.targ.shape[1]"
   ]
  },
  {
   "cell_type": "markdown",
   "id": "630f6b94",
   "metadata": {},
   "source": [
    "## Models"
   ]
  },
  {
   "cell_type": "markdown",
   "id": "9c99e2f8",
   "metadata": {},
   "source": []
  },
  {
   "cell_type": "markdown",
   "id": "c3a58265",
   "metadata": {},
   "source": [
    "## The Module class and class inheritance"
   ]
  }
 ],
 "metadata": {
  "kernelspec": {
   "display_name": "Python 3 (ipykernel)",
   "language": "python",
   "name": "python3"
  },
  "language_info": {
   "codemirror_mode": {
    "name": "ipython",
    "version": 3
   },
   "file_extension": ".py",
   "mimetype": "text/x-python",
   "name": "python",
   "nbconvert_exporter": "python",
   "pygments_lexer": "ipython3",
   "version": "3.9.13"
  }
 },
 "nbformat": 4,
 "nbformat_minor": 5
}
