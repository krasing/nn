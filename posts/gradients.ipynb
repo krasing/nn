{
 "cells": [
  {
   "cell_type": "raw",
   "metadata": {},
   "source": [
    "---\n",
    "title: \"Gradients, broadcasting and backpropagation\"\n",
    "author: \"Krasin Georgiev\"\n",
    "date: \"2022-11-23\"\n",
    "categories: [NN]\n",
    "format:\n",
    "  html:\n",
    "    code-fold: false\n",
    "jupyter: python3\n",
    "---"
   ]
  },
  {
   "cell_type": "markdown",
   "metadata": {},
   "source": [
    "Let's have $y = w \\cdot x  + b$. Application of the rules of differentiation is simple, e.g. \n",
    "\n",
    "$$\\frac{\\mathrm{d}y}{\\mathrm{d}x} = w , \\quad\n",
    "\\frac{\\mathrm{d}y}{\\mathrm{d}w} = x, \\quad\n",
    "\\frac{\\mathrm{d}y}{\\mathrm{d}b} = 1$$\n",
    "\n",
    "The change in $y$ is porportional to the change in $x$. The bigger is $w$, the bigger is the change of $y$ for the same change of $x$.\n",
    "\n",
    "Let's $L = f(y) = f(y(x))$. Application of the chain rule is simple, e.g. \n",
    "\n",
    "$$\\frac{\\mathrm{d}L}{\\mathrm{d}x} = \\frac{\\mathrm{d}f(y)}{\\mathrm{d}y} \\cdot \\frac{\\mathrm{d}y}{\\mathrm{d}x} = \\frac{\\mathrm{d}L}{\\mathrm{d}y} \\cdot w$$ \n",
    "$$\\frac{\\mathrm{d}L}{\\mathrm{d}w} = \\frac{\\mathrm{d}f(y)}{\\mathrm{d}y} \\cdot \\frac{\\mathrm{d}y}{\\mathrm{d}w} = \\frac{\\mathrm{d}L}{\\mathrm{d}y} \\cdot x$$ \n",
    "$$\\frac{\\mathrm{d}L}{\\mathrm{d}b} = \\frac{\\mathrm{d}f(y)}{\\mathrm{d}y} \\cdot \\frac{\\mathrm{d}y}{\\mathrm{d}b} = \\frac{\\mathrm{d}L}{\\mathrm{d}y} \\cdot 1$$."
   ]
  },
  {
   "cell_type": "markdown",
   "metadata": {},
   "source": [
    "The multidimensional case is not so simple. Functions with multiple inputs and multiple outputs have multiple partial derivatives which need to be arranged and stored properly. Applying this for batches of data complicates the picture even more."
   ]
  },
  {
   "cell_type": "markdown",
   "metadata": {},
   "source": [
    "## Derivative of a transformation"
   ]
  },
  {
   "cell_type": "markdown",
   "metadata": {},
   "source": [
    "The derivative of a function (transformation $\\psi$) with multiple inputs $\\mathbf{x} \\in \\mathbb{R}^M$ and multiple outputs $\\mathbf{y} \\in \\mathbb{R}^H$ is a matrix containing the partial derivatives of each output with respect to each input (the so called Jacobian of the transformation, $\\frac{\\partial{\\mathbf{y}}}{\\partial{\\mathbf{x}}} \\in \\mathbb{R}^{M \\times H}$). For example, if $M=4$ and $H=2$ we can write:\n",
    "\n",
    "$\\mathbf{y} = \\psi(\\mathbf{x})$,\n",
    "\n",
    "$\\mathbf{x} = \\begin{bmatrix} x_1 \\\\ x_2 \\\\ x_3 \\\\ x_4\\end{bmatrix}, \\quad\n",
    "\\mathbf{y} = \\begin{bmatrix} y_1 \\\\ y_2 \\end{bmatrix}$\n",
    "\n",
    "$\\frac{\\partial{\\mathbf{y}}}{\\partial{\\mathbf{x}}} = \\begin{bmatrix} \\frac{\\partial{y_1}}{\\partial{x_1}} & \\frac{\\partial{y_1}}{\\partial{x_2}} & \\frac{\\partial{y_1}}{\\partial{x_3}}  & \\frac{\\partial{y_1}}{\\partial{x_4}}\\\\\n",
    "\\frac{\\partial{y_2}}{\\partial{x_1}} & \\frac{\\partial{y_2}}{\\partial{x_2}} & \\frac{\\partial{y_2}}{\\partial{x_3}} & \\frac{\\partial{y_2}}{\\partial{x_4}}\n",
    "\\end{bmatrix}$"
   ]
  },
  {
   "cell_type": "markdown",
   "metadata": {},
   "source": [
    "The derivative of $\\mathbf{y = W \\cdot x}$ with respect to $\\mathbf{x}$ is $\\mathbf{W}$, i.e. $\\frac{∂y}{∂x} = W$. \n",
    "\n",
    "We should note that in neural networks the input and output features are arranged as raw vectors.\n",
    "\n",
    "The derivative of $\\mathbf{y = x \\cdot W}$ with respect to $\\mathbf{x}$ is $\\mathbf{W^T}$, i.e. \n",
    "\n",
    "$$\\frac{∂y}{∂x} = W^T$$"
   ]
  },
  {
   "cell_type": "markdown",
   "metadata": {},
   "source": [
    "## The chain rule"
   ]
  },
  {
   "cell_type": "markdown",
   "metadata": {},
   "source": [
    "Let's have $y = x \\cdot W + b$ and $L = f(y)$"
   ]
  },
  {
   "cell_type": "markdown",
   "metadata": {},
   "source": [
    "![Simple NN](../nn-mini.png)"
   ]
  },
  {
   "cell_type": "markdown",
   "metadata": {},
   "source": [
    "The chain rule involves propagating the gradient of the loss layer after layer backward towards the inputs and parameters of interest. In our demonstration case in order to calculate the gradient of $L$ with respect to the input $x$ we need to have the gradient of $L$ with respect to the output $y$. \n",
    "\n",
    "The shapes of the gradient is the same as the shape of the corresponding variable (parameter)"
   ]
  },
  {
   "cell_type": "markdown",
   "metadata": {},
   "source": [
    "**A gradient is attached to each variable and parameter of the model**, i.e.\n",
    "\n",
    "$y.g = \\frac{\\partial{L}}{∂{y}}$\n",
    "\n",
    "$x.g = \\frac{\\partial{L}}{∂{x}} = \\frac{\\partial{L}}{\\partial{y}} \\cdot \\frac{\\partial{y}}{\\partial{x}} = y.g \\cdot \\frac{\\partial{y}}{\\partial{x}} = y.g \\cdot W^T$\n",
    "\n",
    "$b.g = \\frac{\\partial{L}}{∂{b}} = \\frac{\\partial{L}}{\\partial{y}} \\cdot \\frac{\\partial{y}}{\\partial{b}} = y.g \\cdot \\frac{\\partial{y}}{\\partial{b}} = y.g$\n",
    "\n",
    "$W.g = \\frac{\\partial{L}}{∂W} = ((\\frac{\\partial{L}}{\\partial{y}})^T \\cdot \\frac{\\partial{y}}{\\partial{W}})^T = (y.g^T \\cdot x)^T = x^T \\cdot y.g$\n",
    "\n"
   ]
  },
  {
   "cell_type": "markdown",
   "metadata": {},
   "source": [
    "Notes:\n",
    "\n",
    "- $x$, $y$ and $b$ are row vectors.\n",
    "- $W$ is a weight matrix with $m$ rows and $h$ columns; \n",
    "- $x$ includes the $m$ input features\n",
    "- $b$ is a bias with $h$ elements; \n",
    "- $y$ has $h$ features (or nodes).\n",
    "- $x$ and $y$ represent input and output features (variables, nodes in the NN). Adding additional dimension (multiple rows) could represent multiple data samples. Inputs and outputs could be replaced by matrices $X$ and $Y$ where the last dimension gives the features ($x$ and $y$ for the corresponding data point); "
   ]
  },
  {
   "cell_type": "markdown",
   "metadata": {},
   "source": [
    "![Output y calculation](../xW.png) \n",
    "![x.g calculation](../x.grad.png) ![W.g calculation](../W.grad.png)"
   ]
  },
  {
   "cell_type": "markdown",
   "metadata": {},
   "source": [
    "## Implementation and testing with code"
   ]
  },
  {
   "cell_type": "markdown",
   "metadata": {},
   "source": [
    "Above equations are implemented in function `lin_grad` and tested in the following code"
   ]
  },
  {
   "cell_type": "code",
   "execution_count": 1,
   "metadata": {},
   "outputs": [],
   "source": [
    "def lin_grad(x, w, b, y):\n",
    "    # y.g shoudl be available!\n",
    "    b.g = y.g.sum(dim=0)#/y.shape[0]\n",
    "    w.g = x.T @ y.g\n",
    "    x.g = y.g @ w.T"
   ]
  },
  {
   "cell_type": "code",
   "execution_count": 2,
   "metadata": {},
   "outputs": [],
   "source": [
    "import torch\n",
    "from torch import tensor\n",
    "from matplotlib import pyplot as plt\n",
    "%matplotlib inline"
   ]
  },
  {
   "cell_type": "code",
   "execution_count": 3,
   "metadata": {},
   "outputs": [
    {
     "data": {
      "text/plain": [
       "(tensor([[ 1.0000,  1.0000],\n",
       "         [ 1.5000,  1.5000],\n",
       "         [ 2.0000,  3.0000],\n",
       "         [ 2.5000, -0.5000]]),\n",
       " tensor([[ 11.8067,  -2.0911],\n",
       "         [ -9.3647,  -6.7345],\n",
       "         [  3.9591,  -7.5934],\n",
       "         [  9.4930,   2.5319],\n",
       "         [  2.0966,  13.3945],\n",
       "         [-12.2224, -16.5551],\n",
       "         [ 15.3866,   2.6479]]))"
      ]
     },
     "execution_count": 3,
     "metadata": {},
     "output_type": "execute_result"
    }
   ],
   "source": [
    "# Generate test input and ouput data\n",
    "N = 100 # Number of samples\n",
    "M = 4 # Number of input features\n",
    "H = 2 # Number of outputs\n",
    "x = torch.rand((N, M))*10 - 5 # Input\n",
    "k1 = 1\n",
    "k2 = 1.5\n",
    "k3 = 2\n",
    "k4 = 2.5\n",
    "k6 = 3.0\n",
    "k7 = -0.5\n",
    "W_true = torch.tensor([[k1, k1],\n",
    "                  [k2, k2],\n",
    "                  [k3, k6],\n",
    "                  [k4, k7]])\n",
    "b_true = torch.tensor([0, -1])\n",
    "y = x @ W_true + b_true\n",
    "W_true, y[:7]"
   ]
  },
  {
   "cell_type": "code",
   "execution_count": 4,
   "metadata": {},
   "outputs": [
    {
     "data": {
      "text/plain": [
       "<matplotlib.collections.PathCollection at 0x7f15e44674c0>"
      ]
     },
     "execution_count": 4,
     "metadata": {},
     "output_type": "execute_result"
    },
    {
     "data": {
      "image/png": "[encoded data removed]",
      "text/plain": [
       "<Figure size 432x288 with 1 Axes>"
      ]
     },
     "metadata": {
      "needs_background": "light"
     },
     "output_type": "display_data"
    }
   ],
   "source": [
    "plt.scatter(x[:,2], y[:,1])"
   ]
  },
  {
   "cell_type": "code",
   "execution_count": 5,
   "metadata": {},
   "outputs": [
    {
     "data": {
      "text/plain": [
       "(tensor([[ 0.7646,  1.0763],\n",
       "         [ 3.4034, -0.4162],\n",
       "         [-0.9498,  0.2595],\n",
       "         [-0.4765,  0.1934]]),\n",
       " tensor([0., 0.]))"
      ]
     },
     "execution_count": 5,
     "metadata": {},
     "output_type": "execute_result"
    }
   ],
   "source": [
    "# Generate random weights\n",
    "w = torch.randn(M,H)\n",
    "b = torch.zeros(H)\n",
    "w, b"
   ]
  },
  {
   "cell_type": "markdown",
   "metadata": {},
   "source": [
    "In order to test the function `lin_grad` we need to calculate the gradient $∂L/dy$ and save it in $y.g$:\n",
    " - define model and calculate prediction\n",
    " - define and calculate loss $L$ as simple mean squared error `mse(y_pred, y_targ)`\n",
    " - define and run `mse_grad(y_pred, y_targ)`\n",
    " - run `lin_grad(x, w, b, y)`"
   ]
  },
  {
   "cell_type": "code",
   "execution_count": 6,
   "metadata": {},
   "outputs": [],
   "source": [
    "def lin(x, w, b): return x @ w + b"
   ]
  },
  {
   "cell_type": "code",
   "execution_count": 7,
   "metadata": {},
   "outputs": [
    {
     "data": {
      "text/plain": [
       "tensor([[-10.3447,  -0.6232],\n",
       "        [-10.6888,  -4.0713],\n",
       "        [  0.3219,   2.6095],\n",
       "        [-10.7518,   5.9173],\n",
       "        [ 13.8666,  -1.1922]])"
      ]
     },
     "execution_count": 7,
     "metadata": {},
     "output_type": "execute_result"
    }
   ],
   "source": [
    "y_pred = lin(x, w, b)\n",
    "y_pred[:5]"
   ]
  },
  {
   "cell_type": "code",
   "execution_count": 8,
   "metadata": {},
   "outputs": [],
   "source": [
    "def mse(y_pred, y_targ): return (y_pred-y_targ).pow(2).mean()"
   ]
  },
  {
   "cell_type": "code",
   "execution_count": 9,
   "metadata": {},
   "outputs": [
    {
     "data": {
      "text/plain": [
       "tensor(137.9371)"
      ]
     },
     "execution_count": 9,
     "metadata": {},
     "output_type": "execute_result"
    }
   ],
   "source": [
    "loss = mse(y_pred, y)\n",
    "loss"
   ]
  },
  {
   "cell_type": "code",
   "execution_count": 10,
   "metadata": {},
   "outputs": [],
   "source": [
    "def mse_grad(y_pred, y_targ): y_pred.g = 2 * (y_pred - y_targ) / y_targ.shape[0] / y_targ.shape[1]"
   ]
  },
  {
   "cell_type": "code",
   "execution_count": 11,
   "metadata": {},
   "outputs": [],
   "source": [
    "mse_grad(y_pred, y)"
   ]
  },
  {
   "cell_type": "markdown",
   "metadata": {},
   "source": [
    "Finnally, test if all dimensions in `lin_grad` match:"
   ]
  },
  {
   "cell_type": "code",
   "execution_count": 12,
   "metadata": {},
   "outputs": [],
   "source": [
    "lin_grad(x, w, b, y_pred)"
   ]
  },
  {
   "cell_type": "markdown",
   "metadata": {},
   "source": [
    "Next test if the loss improves"
   ]
  },
  {
   "cell_type": "code",
   "execution_count": 13,
   "metadata": {},
   "outputs": [
    {
     "data": {
      "text/plain": [
       "tensor(5.1110)"
      ]
     },
     "execution_count": 13,
     "metadata": {},
     "output_type": "execute_result"
    }
   ],
   "source": [
    "w -= 0.1 * w.g\n",
    "b -= 0.1 * b.g\n",
    "y_pred = lin(x, w, b)\n",
    "loss = mse(y_pred, y)\n",
    "loss"
   ]
  },
  {
   "cell_type": "code",
   "execution_count": 14,
   "metadata": {},
   "outputs": [
    {
     "name": "stdout",
     "output_type": "stream",
     "text": [
      "tensor(5.1110)\n",
      "tensor(4.5152)\n",
      "tensor(3.9969)\n",
      "tensor(3.5457)\n",
      "tensor(3.1527)\n",
      "tensor(2.8100)\n",
      "tensor(2.5109)\n",
      "tensor(2.2498)\n",
      "tensor(2.0215)\n",
      "tensor(1.8218)\n",
      "tensor(1.6469)\n",
      "tensor(1.4935)\n",
      "tensor(1.3589)\n",
      "tensor(1.2406)\n",
      "tensor(1.1365)\n",
      "tensor(1.0448)\n",
      "tensor(0.9638)\n",
      "tensor(0.8923)\n",
      "tensor(0.8289)\n",
      "tensor(0.7728)\n"
     ]
    },
    {
     "data": {
      "text/plain": [
       "(tensor([[ 0.9728,  0.9178],\n",
       "         [ 1.4296,  1.2903],\n",
       "         [ 1.8706,  2.7733],\n",
       "         [ 2.4438, -0.5472]]),\n",
       " tensor([-0.0191, -0.0628]),\n",
       " tensor([[ 1.0000,  1.0000],\n",
       "         [ 1.5000,  1.5000],\n",
       "         [ 2.0000,  3.0000],\n",
       "         [ 2.5000, -0.5000]]),\n",
       " tensor([ 0, -1]))"
      ]
     },
     "execution_count": 14,
     "metadata": {},
     "output_type": "execute_result"
    }
   ],
   "source": [
    "for i in range(20):\n",
    "    y_pred = lin(x, w, b)\n",
    "    loss = mse(y_pred, y)\n",
    "    mse_grad(y_pred, y)\n",
    "    lin_grad(x, w, b, y_pred)\n",
    "    w -= 0.01 * w.g\n",
    "    b -= 0.01 * b.g\n",
    "    print(loss)\n",
    "w, b, W_true, b_true"
   ]
  },
  {
   "cell_type": "markdown",
   "metadata": {},
   "source": [
    "## PyTorch autograd and backpropagation"
   ]
  },
  {
   "cell_type": "markdown",
   "metadata": {},
   "source": [
    "We will use PyTorch automatic gradient calculation to check our algorithms. This involves using the build-in methods and parameters `.backward()` and `.grad`."
   ]
  },
  {
   "cell_type": "markdown",
   "metadata": {},
   "source": [
    "In order to apply PyTorch backpropagation and autograd we need to define a `forward` function that relates the inputs with the loss:"
   ]
  },
  {
   "cell_type": "code",
   "execution_count": 15,
   "metadata": {},
   "outputs": [],
   "source": [
    "def forward(x, y):\n",
    "    y_pred = lin(x, w, b)\n",
    "    loss =  mse(y_pred, y)\n",
    "    return loss"
   ]
  },
  {
   "cell_type": "code",
   "execution_count": 16,
   "metadata": {},
   "outputs": [
    {
     "data": {
      "text/plain": [
       "tensor(0.7228)"
      ]
     },
     "execution_count": 16,
     "metadata": {},
     "output_type": "execute_result"
    }
   ],
   "source": [
    "loss = forward(x, y)\n",
    "loss"
   ]
  },
  {
   "cell_type": "markdown",
   "metadata": {},
   "source": [
    "But this is not enough: \n",
    "\n",
    "```\n",
    "    loss.backward()\n",
    "``` \n",
    "--> `RuntimeError: element 0 of tensors does not require grad and does not have a grad_fn`\n",
    "\n",
    "Looks like a slot for saving the gradient to the corresponding inputs and model parameters should be required."
   ]
  },
  {
   "cell_type": "code",
   "execution_count": 17,
   "metadata": {},
   "outputs": [],
   "source": [
    "# Update gradients as above - manual backward - for comparison\n",
    "\n",
    "# forward\n",
    "y_pred = lin(x, w, b)\n",
    "loss =  mse(y_pred, y)\n",
    "\n",
    "# backward\n",
    "mse_grad(y_pred, y)\n",
    "lin_grad(x, w, b, y_pred)\n",
    "\n",
    "# Good to know: the parameters are not updated in the backward pass!"
   ]
  },
  {
   "cell_type": "code",
   "execution_count": 18,
   "metadata": {},
   "outputs": [],
   "source": [
    "# Require gradient to keep them with the data\n",
    "\n",
    "for element in [x, w, b]:\n",
    "    element.requires_grad_(True)"
   ]
  },
  {
   "cell_type": "code",
   "execution_count": 19,
   "metadata": {},
   "outputs": [],
   "source": [
    "loss = forward(x, y)\n",
    "loss.backward()"
   ]
  },
  {
   "cell_type": "code",
   "execution_count": 20,
   "metadata": {},
   "outputs": [
    {
     "data": {
      "text/plain": [
       "tensor(0.7228, grad_fn=<MeanBackward0>)"
      ]
     },
     "execution_count": 20,
     "metadata": {},
     "output_type": "execute_result"
    }
   ],
   "source": [
    "loss"
   ]
  },
  {
   "cell_type": "code",
   "execution_count": 21,
   "metadata": {},
   "outputs": [],
   "source": [
    "from fastcore.test import test_close"
   ]
  },
  {
   "cell_type": "code",
   "execution_count": 22,
   "metadata": {},
   "outputs": [],
   "source": [
    "test_close(x.g, x.grad)\n",
    "test_close(w.g, w.grad)\n",
    "test_close(b.g, b.grad)"
   ]
  },
  {
   "cell_type": "markdown",
   "metadata": {},
   "source": [
    "## What is next?"
   ]
  },
  {
   "cell_type": "markdown",
   "metadata": {},
   "source": [
    "The next step is to try to create a \"proper\" non-linear neural network."
   ]
  },
  {
   "cell_type": "markdown",
   "metadata": {},
   "source": [
    "The structure of a fully connected neural network with single hidden layer could be represented as follows:\n",
    "\n",
    "![NN with one hidden layer](../nn.png)\n",
    "\n",
    "A few more gradients need to be defined and calculated"
   ]
  }
 ],
 "metadata": {
  "kernelspec": {
   "display_name": "Python 3 (ipykernel)",
   "language": "python",
   "name": "python3"
  },
  "language_info": {
   "codemirror_mode": {
    "name": "ipython",
    "version": 3
   },
   "file_extension": ".py",
   "mimetype": "text/x-python",
   "name": "python",
   "nbconvert_exporter": "python",
   "pygments_lexer": "ipython3",
   "version": "3.9.13"
  },
  "toc": {
   "base_numbering": 1,
   "nav_menu": {},
   "number_sections": true,
   "sideBar": true,
   "skip_h1_title": false,
   "title_cell": "Table of Contents",
   "title_sidebar": "Contents",
   "toc_cell": false,
   "toc_position": {
    "height": "calc(100% - 180px)",
    "left": "10px",
    "top": "150px",
    "width": "215.434px"
   },
   "toc_section_display": true,
   "toc_window_display": true
  }
 },
 "nbformat": 4,
 "nbformat_minor": 2
}
